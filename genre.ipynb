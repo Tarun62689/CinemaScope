{
 "cells": [
  {
   "cell_type": "code",
   "execution_count": 2,
   "metadata": {},
   "outputs": [],
   "source": [
    "import numpy as np\n",
    "import pandas as pd\n",
    "import os"
   ]
  },
  {
   "cell_type": "code",
   "execution_count": 3,
   "metadata": {},
   "outputs": [],
   "source": [
    "movies = pd.read_csv(\"C:/Users/tarun/Documents/Coding/CinemaScope/genres list.csv\", encoding='ISO-8859-1')\n"
   ]
  },
  {
   "cell_type": "code",
   "execution_count": 4,
   "metadata": {},
   "outputs": [
    {
     "data": {
      "text/html": [
       "<div>\n",
       "<style scoped>\n",
       "    .dataframe tbody tr th:only-of-type {\n",
       "        vertical-align: middle;\n",
       "    }\n",
       "\n",
       "    .dataframe tbody tr th {\n",
       "        vertical-align: top;\n",
       "    }\n",
       "\n",
       "    .dataframe thead th {\n",
       "        text-align: right;\n",
       "    }\n",
       "</style>\n",
       "<table border=\"1\" class=\"dataframe\">\n",
       "  <thead>\n",
       "    <tr style=\"text-align: right;\">\n",
       "      <th></th>\n",
       "      <th>title</th>\n",
       "      <th>Year</th>\n",
       "      <th>Content</th>\n",
       "      <th>poster</th>\n",
       "      <th>Genre</th>\n",
       "      <th>Description</th>\n",
       "    </tr>\n",
       "  </thead>\n",
       "  <tbody>\n",
       "    <tr>\n",
       "      <th>0</th>\n",
       "      <td>The Wolverine</td>\n",
       "      <td>2013</td>\n",
       "      <td>13+</td>\n",
       "      <td>https://m.media-amazon.com/images/M/MV5BNzg1MD...</td>\n",
       "      <td>Action,Sci-Fi</td>\n",
       "      <td>Wolverine comes to Japan to meet an old friend...</td>\n",
       "    </tr>\n",
       "    <tr>\n",
       "      <th>1</th>\n",
       "      <td>Deadpool 2</td>\n",
       "      <td>2018</td>\n",
       "      <td>18+</td>\n",
       "      <td>https://vignette.wikia.nocookie.net/marveldata...</td>\n",
       "      <td>Action,Comedy,Sci-Fi</td>\n",
       "      <td>Foul-mouthed mutant mercenary Wade Wilson (a.k...</td>\n",
       "    </tr>\n",
       "    <tr>\n",
       "      <th>2</th>\n",
       "      <td>The Shawshank Redemption</td>\n",
       "      <td>1994</td>\n",
       "      <td>18+</td>\n",
       "      <td>https://m.media-amazon.com/images/M/MV5BMDAyY2...</td>\n",
       "      <td>Drama</td>\n",
       "      <td>Two imprisoned men bond over a number of years...</td>\n",
       "    </tr>\n",
       "    <tr>\n",
       "      <th>3</th>\n",
       "      <td>The Godfather</td>\n",
       "      <td>1972</td>\n",
       "      <td>18+</td>\n",
       "      <td>https://m.media-amazon.com/images/M/MV5BYTJkNG...</td>\n",
       "      <td>Crime, Drama</td>\n",
       "      <td>An organized crime dynasty's aging patriarch t...</td>\n",
       "    </tr>\n",
       "    <tr>\n",
       "      <th>4</th>\n",
       "      <td>The Dark Knight</td>\n",
       "      <td>2008</td>\n",
       "      <td>13+</td>\n",
       "      <td>https://m.media-amazon.com/images/M/MV5BMTMxNT...</td>\n",
       "      <td>Action, Crime, Drama</td>\n",
       "      <td>When the menace known as the Joker wreaks havo...</td>\n",
       "    </tr>\n",
       "    <tr>\n",
       "      <th>5</th>\n",
       "      <td>The Godfather: Part II</td>\n",
       "      <td>1974</td>\n",
       "      <td>18+</td>\n",
       "      <td>https://m.media-amazon.com/images/M/MV5BNzc1OW...</td>\n",
       "      <td>Crime, Drama</td>\n",
       "      <td>The early life and career of Vito Corleone in ...</td>\n",
       "    </tr>\n",
       "    <tr>\n",
       "      <th>6</th>\n",
       "      <td>The Lord of the Rings: The Return of the King</td>\n",
       "      <td>2003</td>\n",
       "      <td>13+</td>\n",
       "      <td>https://m.media-amazon.com/images/M/MV5BMTZkMj...</td>\n",
       "      <td>Action, Adventure, Drama</td>\n",
       "      <td>Gandalf and Aragorn lead the World of Men agai...</td>\n",
       "    </tr>\n",
       "    <tr>\n",
       "      <th>7</th>\n",
       "      <td>Pulp Fiction</td>\n",
       "      <td>1994</td>\n",
       "      <td>18+</td>\n",
       "      <td>https://m.media-amazon.com/images/M/MV5BYTViYT...</td>\n",
       "      <td>Crime, Drama</td>\n",
       "      <td>The lives of two mob hitmen, a boxer, a gangst...</td>\n",
       "    </tr>\n",
       "    <tr>\n",
       "      <th>8</th>\n",
       "      <td>Schindler's List</td>\n",
       "      <td>1993</td>\n",
       "      <td>18+</td>\n",
       "      <td>https://m.media-amazon.com/images/I/81+H4lZVw+...</td>\n",
       "      <td>Biography, Drama, History</td>\n",
       "      <td>In German-occupied Poland during World War II,...</td>\n",
       "    </tr>\n",
       "  </tbody>\n",
       "</table>\n",
       "</div>"
      ],
      "text/plain": [
       "                                           title  Year Content  \\\n",
       "0                                  The Wolverine  2013     13+   \n",
       "1                                     Deadpool 2  2018     18+   \n",
       "2                       The Shawshank Redemption  1994     18+   \n",
       "3                                  The Godfather  1972     18+   \n",
       "4                                The Dark Knight  2008     13+   \n",
       "5                         The Godfather: Part II  1974     18+   \n",
       "6  The Lord of the Rings: The Return of the King  2003     13+   \n",
       "7                                   Pulp Fiction  1994     18+   \n",
       "8                               Schindler's List  1993     18+   \n",
       "\n",
       "                                              poster  \\\n",
       "0  https://m.media-amazon.com/images/M/MV5BNzg1MD...   \n",
       "1  https://vignette.wikia.nocookie.net/marveldata...   \n",
       "2  https://m.media-amazon.com/images/M/MV5BMDAyY2...   \n",
       "3  https://m.media-amazon.com/images/M/MV5BYTJkNG...   \n",
       "4  https://m.media-amazon.com/images/M/MV5BMTMxNT...   \n",
       "5  https://m.media-amazon.com/images/M/MV5BNzc1OW...   \n",
       "6  https://m.media-amazon.com/images/M/MV5BMTZkMj...   \n",
       "7  https://m.media-amazon.com/images/M/MV5BYTViYT...   \n",
       "8  https://m.media-amazon.com/images/I/81+H4lZVw+...   \n",
       "\n",
       "                       Genre  \\\n",
       "0              Action,Sci-Fi   \n",
       "1       Action,Comedy,Sci-Fi   \n",
       "2                      Drama   \n",
       "3               Crime, Drama   \n",
       "4       Action, Crime, Drama   \n",
       "5               Crime, Drama   \n",
       "6   Action, Adventure, Drama   \n",
       "7               Crime, Drama   \n",
       "8  Biography, Drama, History   \n",
       "\n",
       "                                         Description  \n",
       "0  Wolverine comes to Japan to meet an old friend...  \n",
       "1  Foul-mouthed mutant mercenary Wade Wilson (a.k...  \n",
       "2  Two imprisoned men bond over a number of years...  \n",
       "3  An organized crime dynasty's aging patriarch t...  \n",
       "4  When the menace known as the Joker wreaks havo...  \n",
       "5  The early life and career of Vito Corleone in ...  \n",
       "6  Gandalf and Aragorn lead the World of Men agai...  \n",
       "7  The lives of two mob hitmen, a boxer, a gangst...  \n",
       "8  In German-occupied Poland during World War II,...  "
      ]
     },
     "execution_count": 4,
     "metadata": {},
     "output_type": "execute_result"
    }
   ],
   "source": [
    "movies.head(9)"
   ]
  },
  {
   "cell_type": "code",
   "execution_count": 5,
   "metadata": {},
   "outputs": [],
   "source": [
    "import pandas as pd\n",
    "from IPython.display import display, Image, HTML\n",
    "\n",
    "# Load the CSV file directly into the DataFrame `movies`\n",
    "movies = pd.read_csv(\"C:/Users/tarun/Documents/Coding/CinemaScope/genres list.csv\", encoding='ISO-8859-1')\n",
    "\n",
    "# Function to display movies of a specific genre\n",
    "def display_movies_by_genre(genre):\n",
    "    try:\n",
    "        # Filter movies by the specified genre\n",
    "        genre = genre.lower()\n",
    "        genre_movies = movies[movies['Genre'].str.lower().str.contains(genre, na=False)]\n",
    "        \n",
    "        # Loop through the filtered DataFrame and display relevant information\n",
    "        for idx, row in genre_movies.iterrows():\n",
    "            display(HTML(f\"<h3>{row['Movie Title']} ({row['Year']})</h3>\"))\n",
    "            display(HTML(f\"<p><b>Content:</b> {row['Content']}</p>\"))\n",
    "            \n",
    "            display(HTML(f\"<p><b>Description:</b> {row['Description']}</p>\"))\n",
    "            \n",
    "            # Display the poster image using the link\n",
    "            display(Image(url=row['poster'], width=200))\n",
    "            display(HTML(\"<hr>\"))  # Separator between movies\n",
    "\n",
    "    except Exception as e:\n",
    "        print(f\"Error: {e}\")\n",
    "\n",
    "# Usage example\n",
    "# display_movies_by_genre(\"action\")\n"
   ]
  },
  {
   "cell_type": "code",
   "execution_count": 6,
   "metadata": {},
   "outputs": [
    {
     "name": "stdout",
     "output_type": "stream",
     "text": [
      "Error: 'Movie Title'\n"
     ]
    }
   ],
   "source": [
    "\n",
    "display_movies_by_genre(\"comedy\")"
   ]
  },
  {
   "cell_type": "code",
   "execution_count": 7,
   "metadata": {},
   "outputs": [
    {
     "name": "stdout",
     "output_type": "stream",
     "text": [
      "DataFrame has been saved as a pickle file at: C:/Users/tarun/Documents/Coding/CinemaScope/genres_list.pkl\n"
     ]
    }
   ],
   "source": [
    "import pandas as pd\n",
    "from IPython.display import display, Image, HTML\n",
    "\n",
    "\n",
    "# Load the CSV file directly into the DataFrame `movies`\n",
    "movies = pd.read_csv(\"C:/Users/tarun/Documents/Coding/CinemaScope/genres list.csv\", encoding='ISO-8859-1')\n",
    "\n",
    "# Save the DataFrame to a pickle file\n",
    "pickle_file_path = \"C:/Users/tarun/Documents/Coding/CinemaScope/genres_list.pkl\"\n",
    "movies.to_pickle(pickle_file_path)\n",
    "print(f\"DataFrame has been saved as a pickle file at: {pickle_file_path}\")\n",
    "\n",
    "# Function to display movies of a specific genre\n",
    "def display_movies_by_genre(genre):\n",
    "    try:\n",
    "        # Load the pickled DataFrame\n",
    "        movies = pd.read_pickle(pickle_file_path)\n",
    "\n",
    "        # Filter movies by the specified genre\n",
    "        genre = genre.lower()\n",
    "        genre_movies = movies[movies['Genre'].str.lower().str.contains(genre, na=False)]\n",
    "        \n",
    "        # Loop through the filtered DataFrame and display relevant information\n",
    "        for idx, row in genre_movies.iterrows():\n",
    "            display(HTML(f\"<h3>{row['Movie Title']} ({row['Year']})</h3>\"))\n",
    "            display(HTML(f\"<p><b>Content:</b> {row['Content']}</p>\"))\n",
    "            display(HTML(f\"<p><b>Description:</b> {row['Description']}</p>\"))\n",
    "\n",
    "            # Display the poster image directly from the URL in the CSV\n",
    "            display(Image(url=row['poster'], width=200))\n",
    "            display(HTML(\"<hr>\"))  # Separator between movies\n",
    "\n",
    "    except Exception as e:\n",
    "        print(f\"Error: {e}\")\n",
    "\n",
    "# Usage example\n",
    "# display_movies_by_genre(\"action\")\n"
   ]
  },
  {
   "cell_type": "code",
   "execution_count": 8,
   "metadata": {},
   "outputs": [
    {
     "name": "stdout",
     "output_type": "stream",
     "text": [
      "Index(['title', 'Year', 'Content', 'poster', 'Genre', 'Description'], dtype='object')\n"
     ]
    }
   ],
   "source": [
    "print(movies.columns)"
   ]
  },
  {
   "cell_type": "code",
   "execution_count": 9,
   "metadata": {},
   "outputs": [],
   "source": [
    "movies.columns = movies.columns.str.strip()"
   ]
  },
  {
   "cell_type": "code",
   "execution_count": 10,
   "metadata": {},
   "outputs": [
    {
     "name": "stdout",
     "output_type": "stream",
     "text": [
      "Error: 'Movie Title'\n"
     ]
    }
   ],
   "source": [
    "display_movies_by_genre(\"comedy\")"
   ]
  },
  {
   "cell_type": "code",
   "execution_count": 11,
   "metadata": {},
   "outputs": [
    {
     "name": "stdout",
     "output_type": "stream",
     "text": [
      "Index(['title', 'Year', 'Content', 'poster', 'Genre', 'Description'], dtype='object')\n"
     ]
    }
   ],
   "source": [
    "# Check the columns in the DataFrame\n",
    "print(movies.columns)\n"
   ]
  },
  {
   "cell_type": "code",
   "execution_count": 12,
   "metadata": {},
   "outputs": [
    {
     "name": "stdout",
     "output_type": "stream",
     "text": [
      "Index(['title', 'Year', 'Content', 'poster', 'Genre', 'Description'], dtype='object')\n"
     ]
    }
   ],
   "source": [
    "# Load the pickled DataFrame and inspect columns\n",
    "movies = pd.read_pickle('genres_list.pkl')\n",
    "print(movies.columns)  # Confirm column names\n"
   ]
  }
 ],
 "metadata": {
  "kernelspec": {
   "display_name": "base",
   "language": "python",
   "name": "python3"
  },
  "language_info": {
   "codemirror_mode": {
    "name": "ipython",
    "version": 3
   },
   "file_extension": ".py",
   "mimetype": "text/x-python",
   "name": "python",
   "nbconvert_exporter": "python",
   "pygments_lexer": "ipython3",
   "version": "3.12.4"
  }
 },
 "nbformat": 4,
 "nbformat_minor": 2
}
