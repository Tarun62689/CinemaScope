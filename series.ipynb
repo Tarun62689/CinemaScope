{
 "cells": [
  {
   "cell_type": "code",
   "execution_count": 1,
   "metadata": {},
   "outputs": [],
   "source": [
    "import numpy as np\n",
    "import pandas as pd\n",
    "import matplotlib.pyplot as plt\n",
    "import os"
   ]
  },
  {
   "cell_type": "code",
   "execution_count": 2,
   "metadata": {},
   "outputs": [],
   "source": [
    "series = pd.read_csv(\"C:/Users/tarun/Documents/Coding/CinemaScope/webseriesdata.csv\", encoding='ISO-8859-1')\n"
   ]
  },
  {
   "cell_type": "code",
   "execution_count": 3,
   "metadata": {},
   "outputs": [
    {
     "data": {
      "text/html": [
       "<div>\n",
       "<style scoped>\n",
       "    .dataframe tbody tr th:only-of-type {\n",
       "        vertical-align: middle;\n",
       "    }\n",
       "\n",
       "    .dataframe tbody tr th {\n",
       "        vertical-align: top;\n",
       "    }\n",
       "\n",
       "    .dataframe thead th {\n",
       "        text-align: right;\n",
       "    }\n",
       "</style>\n",
       "<table border=\"1\" class=\"dataframe\">\n",
       "  <thead>\n",
       "    <tr style=\"text-align: right;\">\n",
       "      <th></th>\n",
       "      <th>Series Title</th>\n",
       "      <th>Year Released</th>\n",
       "      <th>Content Rating</th>\n",
       "      <th>IMDB Rating</th>\n",
       "      <th>Genre</th>\n",
       "      <th>Description</th>\n",
       "      <th>No of Seasons</th>\n",
       "      <th>Streaming Platform</th>\n",
       "      <th>Seires poster</th>\n",
       "    </tr>\n",
       "  </thead>\n",
       "  <tbody>\n",
       "    <tr>\n",
       "      <th>0</th>\n",
       "      <td>Breaking Bad</td>\n",
       "      <td>2008</td>\n",
       "      <td>18+</td>\n",
       "      <td>9.5</td>\n",
       "      <td>Crime,Drama</td>\n",
       "      <td>When Walter White, a New Mexico chemistry teac...</td>\n",
       "      <td>5Seasons</td>\n",
       "      <td>Netflix</td>\n",
       "      <td>https://m.media-amazon.com/images/M/MV5BMzU5ZG...</td>\n",
       "    </tr>\n",
       "    <tr>\n",
       "      <th>1</th>\n",
       "      <td>Game of Thrones</td>\n",
       "      <td>2011</td>\n",
       "      <td>18+</td>\n",
       "      <td>9.3</td>\n",
       "      <td>Action &amp; Adventure,Drama</td>\n",
       "      <td>Seven noble families fight for control of the ...</td>\n",
       "      <td>8Seasons</td>\n",
       "      <td>HBO MAX,HBO</td>\n",
       "      <td>https://m.media-amazon.com/images/M/MV5BOGY3NT...</td>\n",
       "    </tr>\n",
       "    <tr>\n",
       "      <th>2</th>\n",
       "      <td>Rick and Morty</td>\n",
       "      <td>2013</td>\n",
       "      <td>18+</td>\n",
       "      <td>9.2</td>\n",
       "      <td>Animation,Comedy</td>\n",
       "      <td>Rick is a mentally-unbalanced but scientifical...</td>\n",
       "      <td>4Seasons</td>\n",
       "      <td>Free Services,HBO MAX,Hulu</td>\n",
       "      <td>https://m.media-amazon.com/images/M/MV5BZGQyZj...</td>\n",
       "    </tr>\n",
       "    <tr>\n",
       "      <th>3</th>\n",
       "      <td>Stranger Things</td>\n",
       "      <td>2016</td>\n",
       "      <td>16+</td>\n",
       "      <td>8.8</td>\n",
       "      <td>Drama,Fantasy</td>\n",
       "      <td>When a young boy vanishes, a small town uncove...</td>\n",
       "      <td>3Seasons</td>\n",
       "      <td>Netflix</td>\n",
       "      <td>https://resizing.flixster.com/0xxuABVVuzJrUT13...</td>\n",
       "    </tr>\n",
       "    <tr>\n",
       "      <th>4</th>\n",
       "      <td>The Boys</td>\n",
       "      <td>2019</td>\n",
       "      <td>18+</td>\n",
       "      <td>8.7</td>\n",
       "      <td>Action &amp; Adventure,Comedy</td>\n",
       "      <td>A group of vigilantes known informally as The...</td>\n",
       "      <td>2Seasons</td>\n",
       "      <td>Prime Video</td>\n",
       "      <td>https://m.media-amazon.com/images/M/MV5BMWJlN2...</td>\n",
       "    </tr>\n",
       "  </tbody>\n",
       "</table>\n",
       "</div>"
      ],
      "text/plain": [
       "      Series Title  Year Released Content Rating  IMDB Rating  \\\n",
       "0     Breaking Bad           2008            18+          9.5   \n",
       "1  Game of Thrones           2011            18+          9.3   \n",
       "2   Rick and Morty           2013            18+          9.2   \n",
       "3  Stranger Things           2016            16+          8.8   \n",
       "4         The Boys           2019            18+          8.7   \n",
       "\n",
       "                       Genre  \\\n",
       "0                Crime,Drama   \n",
       "1   Action & Adventure,Drama   \n",
       "2           Animation,Comedy   \n",
       "3              Drama,Fantasy   \n",
       "4  Action & Adventure,Comedy   \n",
       "\n",
       "                                         Description No of Seasons  \\\n",
       "0  When Walter White, a New Mexico chemistry teac...      5Seasons   \n",
       "1  Seven noble families fight for control of the ...      8Seasons   \n",
       "2  Rick is a mentally-unbalanced but scientifical...      4Seasons   \n",
       "3  When a young boy vanishes, a small town uncove...      3Seasons   \n",
       "4  A group of vigilantes known informally as The...      2Seasons   \n",
       "\n",
       "           Streaming Platform  \\\n",
       "0                     Netflix   \n",
       "1                 HBO MAX,HBO   \n",
       "2  Free Services,HBO MAX,Hulu   \n",
       "3                     Netflix   \n",
       "4                 Prime Video   \n",
       "\n",
       "                                       Seires poster  \n",
       "0  https://m.media-amazon.com/images/M/MV5BMzU5ZG...  \n",
       "1  https://m.media-amazon.com/images/M/MV5BOGY3NT...  \n",
       "2  https://m.media-amazon.com/images/M/MV5BZGQyZj...  \n",
       "3  https://resizing.flixster.com/0xxuABVVuzJrUT13...  \n",
       "4  https://m.media-amazon.com/images/M/MV5BMWJlN2...  "
      ]
     },
     "execution_count": 3,
     "metadata": {},
     "output_type": "execute_result"
    }
   ],
   "source": [
    "series.head(5)"
   ]
  },
  {
   "cell_type": "code",
   "execution_count": 5,
   "metadata": {},
   "outputs": [
    {
     "name": "stdout",
     "output_type": "stream",
     "text": [
      "Data has been saved as webseriesdata.pkl\n"
     ]
    }
   ],
   "source": [
    "import pandas as pd\n",
    "import pickle\n",
    "\n",
    "# Load the CSV file\n",
    "df = pd.read_csv(\"C:/Users/tarun/Documents/Coding/CinemaScope/webseriesdata.csv\", encoding='ISO-8859-1')\n",
    "\n",
    "# Rename columns for easier access\n",
    "df = df.rename(columns={\n",
    "    'Series Title': 'title',\n",
    "    'Seires poster': 'poster',\n",
    "    'Streaming Platform': 'platform',\n",
    "    'IMDB Rating': 'rating',\n",
    "    'Genre': 'genre'\n",
    "})\n",
    "\n",
    "# Convert the DataFrame to a list of dictionaries\n",
    "webseries_data = df.to_dict(orient='records')\n",
    "\n",
    "# Save the list of dictionaries as a pickle file\n",
    "with open('webseriesdata.pkl', 'wb') as file:\n",
    "    pickle.dump(webseries_data, file)\n",
    "\n",
    "print(\"Data has been saved as webseriesdata.pkl\")\n"
   ]
  },
  {
   "cell_type": "code",
   "execution_count": 6,
   "metadata": {},
   "outputs": [
    {
     "name": "stdout",
     "output_type": "stream",
     "text": [
      "{'title': 'Breaking Bad', 'Year Released': 2008, 'Content Rating': '18+', 'rating': 9.5, 'genre': 'Crime,Drama', 'Description': \"When Walter White, a New Mexico chemistry teacher, is diagnosed with Stage III cancer and given a prognosis of only two years left to live. He becomes filled with a sense of fearlessness and an unrelenting desire to secure his family's financial future at any cost as he enters the dangerous world of drugs and crime.Breaking Bad featuring Bryan Cranston and Aaron Paul has one or more episodes streaming with subscription on Netflix, available for purchase on iTunes, available for purchase on Google Play, and 3 others. It's a crime and drama show with 62 episodes over 5 seasons. Breaking Bad is no longer running and has no plans to air new episodes or seasons. It has a very high IMDb audience rating of 9.5 (1,391,409 votes) and was very well received by critics.\", 'No of Seasons': '5Seasons', 'platform': 'Netflix', 'poster': 'https://m.media-amazon.com/images/M/MV5BMzU5ZGYzNmQtMTdhYy00OGRiLTg0NmQtYjVjNzliZTg1ZGE4XkEyXkFqcGc@._V1_FMjpg_UX1000_.jpg'}\n",
      "{'title': 'Game of Thrones', 'Year Released': 2011, 'Content Rating': '18+', 'rating': 9.3, 'genre': 'Action & Adventure,Drama', 'Description': \"Seven noble families fight for control of the mythical land of Westeros. Friction between the houses leads to full-scale war. All while a very ancient evil awakens in the farthest north. Amidst the war, a neglected military order of misfits, the Night's Watch, is all that stands between the realms of men and icy horrors beyond.Game of Thrones featuring Emilia Clarke and Lena Headey has one or more episodes streaming with subscription on HBO MAX, streaming on HBO, available for purchase on iTunes, and 5 others. It's an action & adventure and drama show with 74 episodes over 8 seasons. Game of Thrones is no longer running and has no plans to air new episodes or seasons. It has a very high IMDb audience rating of 9.3 (1,704,731 votes) and was very well received by critics.\", 'No of Seasons': '8Seasons', 'platform': 'HBO MAX,HBO', 'poster': 'https://m.media-amazon.com/images/M/MV5BOGY3NTg1ODMtOGIzZS00YWFiLTgzYzktNzBiYWZkYjcwNGRhXkEyXkFqcGc@._V1_FMjpg_UX1000_.jpg'}\n",
      "{'title': 'Rick and Morty', 'Year Released': 2013, 'Content Rating': '18+', 'rating': 9.2, 'genre': 'Animation,Comedy', 'Description': \"Rick is a mentally-unbalanced but scientifically-gifted old man who has recently reconnected with his family. He spends most of his time involving his young grandson Morty in dangerous, outlandish adventures throughout space and alternate universes. Compounded with Morty's already unstable family life, these events cause Morty much distress at home and school.Rick and Morty featuring Justin Roiland and Chris Parnell has one or more episodes streaming with subscription on HBO MAX, streaming with subscription on Hulu, streaming via tv everywhere with Adult Swim (Via Cable/Satellite Provider), and 8 others. It's an action & adventure and animation show with 42 episodes over 4 seasons. Rick and Morty is still airing with no announced date for the next episode or season. It has a very high IMDb audience rating of 9.2 (354,057 votes) and was very well received by critics.\", 'No of Seasons': '4Seasons', 'platform': 'Free Services,HBO MAX,Hulu', 'poster': 'https://m.media-amazon.com/images/M/MV5BZGQyZjk2MzMtMTcyNC00NGU3LTlmNjItNDExMWM4ZDFhYmQ2XkEyXkFqcGc@._V1_.jpg'}\n",
      "{'title': 'Stranger Things', 'Year Released': 2016, 'Content Rating': '16+', 'rating': 8.8, 'genre': 'Drama,Fantasy', 'Description': \"When a young boy vanishes, a small town uncovers a mystery involving secret experiments, terrifying supernatural forces, and one strange little girl.Stranger Things featuring Winona Ryder and David Harbour has one or more episodes streaming with subscription on Netflix. It's an action & adventure and drama show with 25 episodes over 3 seasons. Stranger Things is still airing with no announced date for the next episode or season. It has a high IMDb audience rating of 8.8 (766,806 votes) and was very well received by critics.\", 'No of Seasons': '3Seasons', 'platform': 'Netflix', 'poster': 'https://resizing.flixster.com/0xxuABVVuzJrUT130WFHKE-irEg=/ems.cHJkLWVtcy1hc3NldHMvdHZzZWFzb24vNzUyMTFhOTktZTU4Ni00ODkyLWJlYjQtZTgxYTllZmU2OGM0LmpwZw=='}\n",
      "{'title': 'The Boys', 'Year Released': 2019, 'Content Rating': '18+', 'rating': 8.7, 'genre': 'Action & Adventure,Comedy', 'Description': \"A group of vigilantes known informally as \\x93The Boys\\x94 set out to take down corrupt superheroes with no more than blue-collar grit and a willingness to fight dirty.The Boys featuring Karl Urban and Jack Quaid has one or more episodes streaming with subscription on Prime Video, and available for purchase on VUDU. It's an action & adventure and comedy show with 12 episodes over 2 seasons. The Boys has a new episode airing on September 17th, 2020 (PDT). It has a high IMDb audience rating of 8.7 (170,705 votes) and was very well received by critics.\", 'No of Seasons': '2Seasons', 'platform': 'Prime Video', 'poster': 'https://m.media-amazon.com/images/M/MV5BMWJlN2U5MzItNjU4My00NTM2LWFjOWUtOWFiNjg3ZTMxZDY1XkEyXkFqcGc@._V1_.jpg'}\n",
      "{'title': 'Dark', 'Year Released': 2017, 'Content Rating': '16+', 'rating': 8.8, 'genre': 'Crime,Drama', 'Description': \"A missing child causes four families to help each other for answers. What they could not imagine is that this mystery would be connected to innumerable other secrets of the small town.Dark has one or more episodes streaming with subscription on Netflix. It's a crime and drama show with 26 episodes over 3 seasons. Dark is no longer running and has no plans to air new episodes or seasons. It has a high IMDb audience rating of 8.8 (249,219 votes) and was very well received by critics.\", 'No of Seasons': '3Seasons', 'platform': 'Netflix', 'poster': 'https://m.media-amazon.com/images/M/MV5BM2RhZGVlZGItMGZiMy00YjdjLWIwMGUtMWYxOGIwNjA0MjNmXkEyXkFqcGc@._V1_.jpg'}\n",
      "{'title': 'Chernobyl', 'Year Released': 2019, 'Content Rating': '18+', 'rating': 9.4, 'genre': 'Drama,History', 'Description': \"The true story of one of the worst man-made catastrophes in history: the catastrophic nuclear accident at Chernobyl. A tale of the brave men and women who sacrificed to save Europe from unimaginable disaster.Chernobyl featuring Jared Harris and Stellan Skarsgård has one or more episodes streaming with subscription on HBO MAX, streaming on HBO, available for purchase on Google Play, and 2 others. It's a drama and history show with 5 episodes over 1 season. Chernobyl is no longer running and has no plans to air new episodes or seasons. It has a very high IMDb audience rating of 9.4 (494,136 votes) and was very well received by critics.\", 'No of Seasons': '1Season', 'platform': 'HBO MAX,HBO', 'poster': 'https://m.media-amazon.com/images/M/MV5BMmQ0Y2JiM2EtOWIwMy00MWVjLTgxZDctZTQzOWU3ODkzMWY4XkEyXkFqcGc@._V1_FMjpg_UX1000_.jpg'}\n",
      "{'title': 'Sherlock', 'Year Released': 2010, 'Content Rating': '16+', 'rating': 9.1, 'genre': 'Action & Adventure,Crime', 'Description': \"A modern update finds the famous sleuth and his doctor partner solving crime in 21st century London.Sherlock featuring Benedict Cumberbatch and Martin Freeman has one or more episodes streaming with subscription on Netflix, available for purchase on iTunes, available for purchase on Google Play, and 3 others. It's an action & adventure and crime show with 13 episodes over 4 seasons. Sherlock is no longer running and has no plans to air new episodes or seasons. It has a very high IMDb audience rating of 9.1 (778,486 votes) and was well received by critics.\", 'No of Seasons': '4Seasons', 'platform': 'Netflix', 'poster': 'https://m.media-amazon.com/images/M/MV5BNTQzNGZjNDEtOTMwYi00MzFjLWE2ZTYtYzYxYzMwMjZkZDc5XkEyXkFqcGc@._V1_.jpg'}\n",
      "{'title': 'Fargo', 'Year Released': 2014, 'Content Rating': '18+', 'rating': 8.9, 'genre': 'Crime,Drama', 'Description': \"A close-knit anthology series dealing with stories involving malice, violence and murder based in and around Minnesota.Fargo featuring Ewan McGregor and Michael Stuhlbarg has one or more episodes streaming with subscription on Hulu, available for purchase on iTunes, available for purchase on Google Play, and 3 others. It's a comedy and crime show with 30 episodes over 3 seasons. Fargo is still airing with no announced date for the next episode or season. It has a high IMDb audience rating of 8.9 (309,584 votes) and was very well received by critics.\", 'No of Seasons': '3Seasons', 'platform': 'Hulu', 'poster': 'https://upload.wikimedia.org/wikipedia/en/2/2d/Fargoseason1promo.jpg'}\n",
      "{'title': 'Avatar: The Last Airbender', 'Year Released': 2005, 'Content Rating': '7+', 'rating': 9.2, 'genre': 'Action & Adventure,Animation', 'Description': \"In a war-torn world of elemental magic, a young boy reawakens to undertake a dangerous mystic quest to fulfill his destiny as the Avatar, and bring peace to the world.Avatar: The Last Airbender featuring Olivia Hack and Jennie Kwan has one or more episodes streaming with subscription on Netflix, streaming on CBS All Access, streaming with subscription on Hoopla, and 6 others. It's an action & adventure and animation show with 66 episodes over 3 seasons. Avatar: The Last Airbender is no longer running and has no plans to air new episodes or seasons. It has a very high IMDb audience rating of 9.2 (232,305 votes) and was very well received by critics.\", 'No of Seasons': '3Seasons', 'platform': 'Netflix,CBS All Access,Hoopla', 'poster': 'https://m.media-amazon.com/images/M/MV5BMDMwMThjYWYtY2Q2OS00OGM2LTlkODQtNDJlZTZmMjAyYmFhXkEyXkFqcGc@._V1_.jpg'}\n"
     ]
    }
   ],
   "source": [
    "import pickle\n",
    "\n",
    "# Load the pickle file\n",
    "with open(\"C:/Users/tarun/Documents/Coding/CinemaScope/webseriesdata.pkl\", 'rb') as file:\n",
    "    data = pickle.load(file)\n",
    "\n",
    "# Display the first few entries\n",
    "for entry in data[:10]:  # Adjust the number to see more entries\n",
    "    print(entry)\n"
   ]
  }
 ],
 "metadata": {
  "kernelspec": {
   "display_name": "base",
   "language": "python",
   "name": "python3"
  },
  "language_info": {
   "codemirror_mode": {
    "name": "ipython",
    "version": 3
   },
   "file_extension": ".py",
   "mimetype": "text/x-python",
   "name": "python",
   "nbconvert_exporter": "python",
   "pygments_lexer": "ipython3",
   "version": "3.12.4"
  }
 },
 "nbformat": 4,
 "nbformat_minor": 2
}
